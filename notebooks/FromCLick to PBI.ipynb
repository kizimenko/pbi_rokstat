{
 "cells": [
  {
   "cell_type": "code",
   "execution_count": 352,
   "metadata": {},
   "outputs": [],
   "source": [
    "from simplech import ClickHouse\n",
    "import ujson\n",
    "import requests\n",
    "import datetime, time"
   ]
  },
  {
   "cell_type": "code",
   "execution_count": 253,
   "metadata": {},
   "outputs": [],
   "source": [
    "ch = ClickHouse()"
   ]
  },
  {
   "cell_type": "code",
   "execution_count": 361,
   "metadata": {},
   "outputs": [],
   "source": [
    "# Authentification\n",
    "client_id = '82c7d4cc-5ghhd-6dhd-9873-06a22f2117d2'\n",
    "client_secret = 'd061JHDghshsqKuFE+iSqcKdhjsjhhwCXNh82m2LY='\n",
    "username =  'test@test.ru'\n",
    "password = 'Daksjhdj4'\n",
    "\n",
    "# Global for interact with powerbi\n",
    "tableName = 'Data'\n",
    "dataset_id = ''\n",
    "token ={}"
   ]
  },
  {
   "cell_type": "code",
   "execution_count": 397,
   "metadata": {},
   "outputs": [],
   "source": [
    "# Global for CreateDataset in power Bi \n",
    "datasetName = 'From CLickhouse 3'"
   ]
  },
  {
   "cell_type": "code",
   "execution_count": 406,
   "metadata": {},
   "outputs": [],
   "source": [
    "# Query for Clickhouse without FORMAT and LIMIT\n",
    "# formatDateTime(dateTime,'%FT%T') - format for powerbi \n",
    "# Recreate dataset or Update if query is changed \n",
    "query=\"\"\"\n",
    "    SELECT data_dealerId, data_category, data_action, formatDateTime(dateTime,'%FT%T') AS dateTime, uniq(uid) AS users\n",
    "    FROM gaevents\n",
    "    WHERE data_dealerId !=''\n",
    "    GROUP BY data_category, data_action, timestamp, data_dealerId, dateTime\n",
    "    ORDER BY users DESC\n",
    "\"\"\""
   ]
  },
  {
   "cell_type": "markdown",
   "metadata": {},
   "source": [
    "### Create dataset schema in power bi from query \n",
    "    push_dataset_schema(datasetName,tableName,query)\n",
    "\n",
    "### Push data to power bi\n",
    " default limit is 10000 rows \n",
    "    \n",
    "    push_data_to_datatset(dataset_id,tableName,query,limit)\n",
    "### Cheak dataset Schema from query \n",
    "    create_dataset_json(datasetName, tableName, json_Schema_From_Query(query))"
   ]
  },
  {
   "cell_type": "code",
   "execution_count": 408,
   "metadata": {},
   "outputs": [],
   "source": [
    "def json_Pbi_From_Clichouse(query, limit=None):\n",
    "    '''\n",
    "    Получаем значения из Clickhouse в формате json и упаковываем в json строку валидную для power bi \n",
    "    '''\n",
    "    if limit:  query += f' LIMIT {limit}'\n",
    "    query += ' FORMAT JSON'\n",
    "    result = ch.select(query)\n",
    "    data_string = ujson.dumps(ujson.loads(result).get('data'))\n",
    "    json_string='{\"rows\":'+data_string+'}'\n",
    "    return json_string"
   ]
  },
  {
   "cell_type": "code",
   "execution_count": 392,
   "metadata": {},
   "outputs": [],
   "source": [
    "def json_Schema_From_Query(query, limit=1, custom_datetime_column=''):\n",
    "    '''\n",
    "    Формируем таблицу соответствия типов данных Clichouse -> PowerBi\n",
    "    custom_datetime_column - название для поля даты/вермя если оно отличается от стандартных\n",
    "    '''\n",
    "    if limit:  query += f' LIMIT {limit}'\n",
    "    query += ' FORMAT JSON'\n",
    "    result = ch.select(query)\n",
    "    new_list = []\n",
    "    for row in ujson.loads(result).get('meta'):\n",
    "        new_dict = {}\n",
    "        new_dict['name'] = row ['name']\n",
    "        if row['name'].lower() in ('datetime', custom_datetime_column.lower()):\n",
    "            new_dict['dataType'] = 'DateTime'\n",
    "        else:\n",
    "            new_dict['dataType'] = pbiDataType(row['type'])\n",
    "        new_list.append(new_dict)\n",
    "    return new_list"
   ]
  },
  {
   "cell_type": "code",
   "execution_count": 404,
   "metadata": {},
   "outputs": [],
   "source": [
    "def connect_pbi(username,password,client_id,client_secret):\n",
    "    url = 'https://login.microsoftonline.com/common/oauth2/token'\n",
    "    data = {\n",
    "            'grant_type': 'password',\n",
    "            'scope': 'https://api.powerbi.com',\n",
    "            'resource': 'https://analysis.windows.net/powerbi/api',\n",
    "            'client_id': client_id,\n",
    "            'client_secret':client_secret,\n",
    "            'username': username,\n",
    "            'password': password\n",
    "           }\n",
    "    r = requests.post(url, data=data)\n",
    "    if r.status_code == HTTP_OK:\n",
    "        global token\n",
    "        token['access_token'] = r.json().get('access_token')\n",
    "        token['expires_token'] = r.json().get('expires_on')\n",
    "        return True \n",
    "    else:\n",
    "        print('Ошибка подключения')\n",
    "        return False"
   ]
  },
  {
   "cell_type": "code",
   "execution_count": 346,
   "metadata": {},
   "outputs": [],
   "source": [
    "def verify_token():\n",
    "    '''\n",
    "    Проверяет истек ли токен, если да то обновляет его\n",
    "    '''\n",
    "    global token\n",
    "    expires_token = datetime.datetime.fromtimestamp(int(token['expires_token']))\n",
    "    if token['access_token'] == None:\n",
    "        print('Токен не был получен')\n",
    "        return False\n",
    "    else:\n",
    "        if expires_token < datetime.datetime.now():\n",
    "            connect_pbi(username,password,client_id,client_secret)\n",
    "            return True\n",
    "        else:\n",
    "            return True"
   ]
  },
  {
   "cell_type": "code",
   "execution_count": 355,
   "metadata": {},
   "outputs": [],
   "source": [
    "def get_headers():\n",
    "    \"\"\"Create HTTP headers\"\"\"\n",
    "    if verify_token() == True:\n",
    "        headers = {\n",
    "            #\"Content-Type\": \"application/json; charset=utf-8\",\n",
    "            \"Authorization\": f\"Bearer {token['access_token']}\"\n",
    "        }\n",
    "        return headers\n",
    "    else:\n",
    "        return print('Проблема с токеном')\n"
   ]
  },
  {
   "cell_type": "code",
   "execution_count": 60,
   "metadata": {},
   "outputs": [],
   "source": [
    "def pbiDataType(type):\n",
    "    type = type.lower()\n",
    "    if type in (\"uint16\", \"int16\",\"int8\", \"uint8\"):\n",
    "      return \"Int16\"\n",
    "    elif type in (\"uint32\", \"int32\"):\n",
    "      return \"Int32\"\n",
    "    elif type in (\"uint64\", \"int64\"):\n",
    "      return \"Int64\"\n",
    "    elif type in (\"datetime\",\"date\"):\n",
    "      return \"DateTime\"\n",
    "    elif type == \"float32\":\n",
    "      return \"Float\"\n",
    "    elif type == \"string\":\n",
    "      return \"String\"\n",
    "    return None"
   ]
  },
  {
   "cell_type": "code",
   "execution_count": 399,
   "metadata": {},
   "outputs": [],
   "source": [
    "def create_dataset_json(datasetName,tableName,schema):\n",
    "    json_schema_string = ujson.dumps(schema)\n",
    "    body = f'{{\"name\":\"{datasetName}\",\"defaultMode\":\"Push\",\"tables\":['\n",
    "    body += f'{{\"name\":\"{tableName}\",\"columns\":{json_schema_string}}}'\n",
    "    body += ']}'\n",
    "    return body"
   ]
  },
  {
   "cell_type": "code",
   "execution_count": 400,
   "metadata": {},
   "outputs": [],
   "source": [
    "def push_dataset_schema(datasetName,tableName, query):\n",
    "    body = create_dataset_json(datasetName,tableName,json_Schema_From_Query(query)) \n",
    "    url = 'https://api.powerbi.com/v1.0/myorg/datasets'\n",
    "    r = requests.post(url=url,data=body, headers=getHeaders())\n",
    "    global dataset_id\n",
    "    dataset_id = r.json().get('id')\n",
    "    return dataset_id"
   ]
  },
  {
   "cell_type": "code",
   "execution_count": 407,
   "metadata": {},
   "outputs": [],
   "source": [
    "def push_data_to_powerbi(dataset_id,tableName,query,limit=10000):\n",
    "    url = f'https://api.powerbi.com/v1.0/myorg/datasets/{dataset_id}/tables/{tableName}/rows'\n",
    "    data_json = json_Pbi_From_Clichouse(query, limit)\n",
    "    r = requests.post(url=url, data=data_json, headers=getHeaders())\n",
    "    if r.status_code == HTTP_OK:\n",
    "        return 'Успешно импортировано'\n",
    "    else:\n",
    "        return f'Ошибка {r.status_code} {r.json()}'"
   ]
  }
 ],
 "metadata": {
  "kernelspec": {
   "display_name": "Python 3",
   "language": "python",
   "name": "python3"
  },
  "language_info": {
   "codemirror_mode": {
    "name": "ipython",
    "version": 3
   },
   "file_extension": ".py",
   "mimetype": "text/x-python",
   "name": "python",
   "nbconvert_exporter": "python",
   "pygments_lexer": "ipython3",
   "version": "3.7.3"
  }
 },
 "nbformat": 4,
 "nbformat_minor": 4
}